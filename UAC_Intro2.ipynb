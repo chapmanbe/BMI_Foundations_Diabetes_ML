{
 "cells": [
  {
   "cell_type": "markdown",
   "metadata": {},
   "source": [
    "# Artificial Intelligence in Medicine\n",
    "## A Very, Very Brief Introduction\n",
    "### Using Python\n",
    "#### In Jupyter Notebooks"
   ]
  },
  {
   "cell_type": "markdown",
   "metadata": {},
   "source": [
    "# What is Artificial Intelligence (AI)?\n",
    "\n",
    "The Stanford Encyclopedia of Mathematics defines AI as\n",
    "\n",
    ">Artificial intelligence (AI) is the field devoted to building artificial animals (or at least artificial creatures that&mdash;in suitable contexts&mdash;*appear* to be animals) and, for many, artificial persons (or at least artificial creatures that&mdash;in suitable contexts&mdash;*appear* to be persons). (Bringsjord, Selmer and Govindarajulu, Naveen Sundar [\"Artificial Intelligence\"](https://plato.stanford.edu/archives/fall2018/entries/artificial-intelligence/))\n",
    "\n",
    "Most of what we hear currently hear about as AI seems a long way away from this definition.\n",
    "\n",
    "## Bringsford and Govindarajulu Divide AI into 3 Major Methodologies\n",
    "\n",
    "* Logical\n",
    "* Bayesian\n",
    "* Neurocomputational (Neural Networks, Deep Neural Networks)\n",
    "    * Which we will expand to include standard machine learning"
   ]
  },
  {
   "cell_type": "markdown",
   "metadata": {},
   "source": [
    "# Programming circa 1986&ndash;2000\n",
    "\n",
    "![Library](https://upload.wikimedia.org/wikipedia/commons/thumb/a/a8/Library_building_clipart.svg/320px-Library_building_clipart.svg.png)\n",
    "\n",
    "![computer](https://upload.wikimedia.org/wikipedia/commons/thumb/9/9f/Computing-In-Morning.svg/240px-Computing-In-Morning.svg.png)\n",
    "\n",
    "# Programming circa 2000&ndash;\n",
    "\n",
    "![Alta Vista](https://upload.wikimedia.org/wikipedia/en/thumb/d/d8/Altavista-1999.png/300px-Altavista-1999.png)\n",
    "\n",
    "## Programming April 2019\n",
    "\n",
    ">I just said that AI includes logic, Bayesian, and neural network approaches. How can I demonstrate logic programming?\n",
    "\n",
    "![Logic](./logic_search.png)\n",
    "\n",
    "![Bayesian](./bayesian_network_search.png)\n",
    "\n",
    "#### Clone the repositories\n",
    "#### Edit the examples to match my problem"
   ]
  },
  {
   "cell_type": "markdown",
   "metadata": {},
   "source": [
    "# What is Causing all the Fuss?\n",
    "\n",
    "![gpus](https://www.nvidia.com/docs/IO/69826/GeForce_GTX_275_3qtr_large.jpg)\n",
    "\n",
    "### [Alec Net ImageNet Challenge September 2012](http://www.image-net.org/challenges/LSVRC/2012/supervision.pdf)"
   ]
  },
  {
   "cell_type": "markdown",
   "metadata": {},
   "source": [
    "## Application to Medicine?\n",
    "\n",
    "[IBM](https://software.intel.com/en-us/articles/inception-v3-deep-convolutional-architecture-for-classifying-acute-myeloidlymphoblastic)"
   ]
  },
  {
   "cell_type": "markdown",
   "metadata": {},
   "source": [
    "### Problems\n",
    "* [Muffin or chihuahua](https://medium.freecodecamp.org/chihuahua-or-muffin-my-search-for-the-best-computer-vision-api-cbda4d6b425d)\n",
    "* [Bias](https://techcrunch.com/2019/01/29/ibm-builds-a-more-diverse-million-face-dataset-to-help-reduce-bias-in-ai/)\n",
    "* Analog vs digital mammography"
   ]
  },
  {
   "cell_type": "code",
   "execution_count": null,
   "metadata": {},
   "outputs": [],
   "source": []
  }
 ],
 "metadata": {
  "kernelspec": {
   "display_name": "Python 3",
   "language": "python",
   "name": "python3"
  },
  "language_info": {
   "codemirror_mode": {
    "name": "ipython",
    "version": 3
   },
   "file_extension": ".py",
   "mimetype": "text/x-python",
   "name": "python",
   "nbconvert_exporter": "python",
   "pygments_lexer": "ipython3",
   "version": "3.7.2"
  }
 },
 "nbformat": 4,
 "nbformat_minor": 2
}
