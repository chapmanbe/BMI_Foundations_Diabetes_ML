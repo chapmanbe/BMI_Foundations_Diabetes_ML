{
 "cells": [
  {
   "cell_type": "markdown",
   "metadata": {},
   "source": [
    "# Artificial Intelligence in Medicine\n",
    "## A Very, Very Brief Introduction\n",
    "### Using Python\n",
    "#### In Jupyter Notebooks"
   ]
  },
  {
   "attachments": {},
   "cell_type": "markdown",
   "metadata": {},
   "source": [
    "# What is Artificial Intelligence (AI)?\n",
    "\n",
    "The Stanford Encyclopedia of Mathematics defines AI as\n",
    "\n",
    ">Artificial intelligence (AI) is the field devoted to building artificial animals (or at least artificial creatures that&mdash;in suitable contexts&mdash;*appear* to be animals) and, for many, artificial persons (or at least artificial creatures that&mdash;in suitable contexts&mdash;*appear* to be persons). (Bringsjord, Selmer and Govindarajulu, Naveen Sundar [\"Artificial Intelligence\"](https://plato.stanford.edu/archives/fall2018/entries/artificial-intelligence/))\n",
    "\n",
    "Most of what we hear currently hear about as AI seems a long way away from this definition.\n",
    "\n",
    "## Bringsford and Govindarajulu Divide AI into 3 Major Methodologies\n",
    "\n",
    "* Logical\n",
    "* Bayesian\n",
    "* Neurocomputational (Neural Networks, Deep Neural Networks)\n",
    "    * Which we will expand to include standard machine learning"
   ]
  },
  {
   "attachments": {},
   "cell_type": "markdown",
   "metadata": {},
   "source": [
    "# Programming circa 1986&ndash;2000\n",
    "\n",
    "![Library](https://upload.wikimedia.org/wikipedia/commons/thumb/a/a8/Library_building_clipart.svg/320px-Library_building_clipart.svg.png)\n",
    "\n",
    "![computer](https://upload.wikimedia.org/wikipedia/commons/thumb/9/9f/Computing-In-Morning.svg/240px-Computing-In-Morning.svg.png)\n",
    "\n",
    "# Programming circa 2000&ndash;\n",
    "\n",
    "![Alta Vista](https://upload.wikimedia.org/wikipedia/en/thumb/d/d8/Altavista-1999.png/300px-Altavista-1999.png)"
   ]
  }
 ],
 "metadata": {
  "kernelspec": {
   "display_name": "Python 3",
   "language": "python",
   "name": "python3"
  },
  "language_info": {
   "codemirror_mode": {
    "name": "ipython",
    "version": 3
   },
   "file_extension": ".py",
   "mimetype": "text/x-python",
   "name": "python",
   "nbconvert_exporter": "python",
   "pygments_lexer": "ipython3",
   "version": "3.7.2"
  }
 },
 "nbformat": 4,
 "nbformat_minor": 2
}
